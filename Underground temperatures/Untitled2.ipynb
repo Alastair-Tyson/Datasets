{
 "cells": [
  {
   "cell_type": "code",
   "execution_count": 1,
   "id": "3635e1ab",
   "metadata": {},
   "outputs": [],
   "source": [
    "import pandas as pd"
   ]
  },
  {
   "cell_type": "code",
   "execution_count": 58,
   "id": "4b86fce4",
   "metadata": {},
   "outputs": [],
   "source": [
    "date = []\n",
    "station_name = []\n",
    "entex  = []\n",
    "tapcount = []\n",
    "\n",
    "dlr = []\n",
    "tube = []\n",
    "og = []\n",
    "el = []\n",
    "nr = []"
   ]
  },
  {
   "cell_type": "code",
   "execution_count": 44,
   "id": "ae3378be",
   "metadata": {},
   "outputs": [],
   "source": [
    "month_no = {'January' : '01', 'February' : '02', 'March' : '03', 'April' : '04', 'May' : '05', 'June' : '06',\n",
    "           'July' : '07', 'August': '08', 'September' : '09', 'October' : '10', 'November' : '11', 'December' : '12'}"
   ]
  },
  {
   "cell_type": "code",
   "execution_count": 63,
   "id": "788c3910",
   "metadata": {},
   "outputs": [],
   "source": [
    "df = pd.read_csv('TAPS-daily-rail-station-entryexit-2023.csv')\n",
    "df['TapCount'] = df.TapCount.apply(lambda x: int(x.replace(',','')))\n",
    "df['Date'] = pd.to_datetime(df['TravelDate'], format = '%d/%m/%Y')\n",
    "df['Month']=df['Date'].apply(lambda x: x.month_name())\n",
    "df['Year']=df['Date'].apply(lambda x: x.year)\n",
    "out = df.groupby(['Station', 'EntryExit', 'Year', 'Month', 'ServedBy']).sum(numeric_only = True).reset_index()\n",
    "\n",
    "for i in range(len(out)):\n",
    "    dat = ''\n",
    "    if out.iloc[i,3] in ['April', 'June', 'September', 'November']:\n",
    "        dat += '30/{}/'.format(month_no[out.iloc[i,3]])\n",
    "    elif out.iloc[i,3] in ['January', 'March', 'May', 'July', 'August', 'October', 'December']:\n",
    "        dat += '31/{}/'.format(month_no[out.iloc[i,3]])\n",
    "    else:\n",
    "        if out.iloc[i, 2] != 2020:\n",
    "            dat += '28/{}/'.format(month_no[out.iloc[i,3]])\n",
    "            \n",
    "        else:\n",
    "            dat += '29/{}/'.format(month_no[out.iloc[i,3]])\n",
    "    dat += str(out.iloc[i,2])\n",
    "    date.append(pd.to_datetime(dat, format ='%d/%m/%Y'))\n",
    "    station_name.append(out.iloc[i,0])\n",
    "    entex.append(out.iloc[i,1])\n",
    "    tapcount.append(out.iloc[i,5])\n",
    "    line = out.iloc[i,4]\n",
    "    if 'DLR' in line:\n",
    "        dlr.append(True)\n",
    "    else:\n",
    "        dlr.append(False)\n",
    "    if 'Tube' in line:\n",
    "        tube.append(True)\n",
    "    else:\n",
    "        tube.append(False)\n",
    "    if 'Elizabeth line' in line:\n",
    "        el.append(True)\n",
    "    else:\n",
    "        el.append(False)\n",
    "    if 'National Rail' in line:\n",
    "        nr.append(True)\n",
    "    else:\n",
    "        nr.append(False)\n",
    "    if 'Overground' in line:\n",
    "        og.append(True)\n",
    "    else:\n",
    "        og.append(False)"
   ]
  },
  {
   "cell_type": "code",
   "execution_count": 64,
   "id": "a31d988d",
   "metadata": {},
   "outputs": [],
   "source": [
    "output = pd.DataFrame({'station_name' : station_name, 'date' : date, 'entry_exit' : entex, 'tapcount' : tapcount,\n",
    "                      'DLR' : dlr, 'tube' : tube, 'NR' : nr, 'EL' : el, 'Overground' : og})"
   ]
  },
  {
   "cell_type": "code",
   "execution_count": 65,
   "id": "dbcdda8a",
   "metadata": {},
   "outputs": [],
   "source": [
    "output.to_csv('tfl2.csv')"
   ]
  },
  {
   "cell_type": "code",
   "execution_count": null,
   "id": "805e5744",
   "metadata": {},
   "outputs": [],
   "source": []
  }
 ],
 "metadata": {
  "kernelspec": {
   "display_name": "Python 3 (ipykernel)",
   "language": "python",
   "name": "python3"
  },
  "language_info": {
   "codemirror_mode": {
    "name": "ipython",
    "version": 3
   },
   "file_extension": ".py",
   "mimetype": "text/x-python",
   "name": "python",
   "nbconvert_exporter": "python",
   "pygments_lexer": "ipython3",
   "version": "3.11.4"
  }
 },
 "nbformat": 4,
 "nbformat_minor": 5
}
