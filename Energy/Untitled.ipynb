{
 "cells": [
  {
   "cell_type": "code",
   "execution_count": 1,
   "id": "9503d042",
   "metadata": {},
   "outputs": [],
   "source": [
    "import pandas as pd"
   ]
  },
  {
   "cell_type": "code",
   "execution_count": 37,
   "id": "f9c594cd",
   "metadata": {},
   "outputs": [],
   "source": [
    "import random\n",
    "import numpy as np"
   ]
  },
  {
   "cell_type": "code",
   "execution_count": 104,
   "id": "2a565fd6",
   "metadata": {},
   "outputs": [
    {
     "data": {
      "text/plain": [
       "Index(['index', 'Date', 'Time', 'Global_active_power', 'Global_reactive_power',\n",
       "       'Voltage', 'Global_intensity', 'Sub_metering_1', 'Sub_metering_2',\n",
       "       'Sub_metering_3'],\n",
       "      dtype='object')"
      ]
     },
     "execution_count": 104,
     "metadata": {},
     "output_type": "execute_result"
    }
   ],
   "source": [
    "df = pd.read_csv('household_power_consumption.csv')\n",
    "df.columns"
   ]
  },
  {
   "cell_type": "code",
   "execution_count": 143,
   "id": "6c86e67b",
   "metadata": {},
   "outputs": [
    {
     "data": {
      "text/html": [
       "<div>\n",
       "<style scoped>\n",
       "    .dataframe tbody tr th:only-of-type {\n",
       "        vertical-align: middle;\n",
       "    }\n",
       "\n",
       "    .dataframe tbody tr th {\n",
       "        vertical-align: top;\n",
       "    }\n",
       "\n",
       "    .dataframe thead th {\n",
       "        text-align: right;\n",
       "    }\n",
       "</style>\n",
       "<table border=\"1\" class=\"dataframe\">\n",
       "  <thead>\n",
       "    <tr style=\"text-align: right;\">\n",
       "      <th></th>\n",
       "      <th>date</th>\n",
       "      <th>time</th>\n",
       "      <th>household_usage</th>\n",
       "      <th>kitchen</th>\n",
       "      <th>other_appliances</th>\n",
       "      <th>heating</th>\n",
       "      <th>timestamp</th>\n",
       "    </tr>\n",
       "  </thead>\n",
       "  <tbody>\n",
       "    <tr>\n",
       "      <th>0</th>\n",
       "      <td>01/01/2023</td>\n",
       "      <td>0:00:00</td>\n",
       "      <td>0.043000</td>\n",
       "      <td>0.0</td>\n",
       "      <td>0.0</td>\n",
       "      <td>0.0</td>\n",
       "      <td>2023-01-01 00:00:00</td>\n",
       "    </tr>\n",
       "    <tr>\n",
       "      <th>1</th>\n",
       "      <td>01/01/2023</td>\n",
       "      <td>0:01:00</td>\n",
       "      <td>0.042533</td>\n",
       "      <td>0.0</td>\n",
       "      <td>0.0</td>\n",
       "      <td>0.0</td>\n",
       "      <td>2023-01-01 00:01:00</td>\n",
       "    </tr>\n",
       "    <tr>\n",
       "      <th>2</th>\n",
       "      <td>01/01/2023</td>\n",
       "      <td>0:02:00</td>\n",
       "      <td>0.042500</td>\n",
       "      <td>0.0</td>\n",
       "      <td>0.0</td>\n",
       "      <td>0.0</td>\n",
       "      <td>2023-01-01 00:02:00</td>\n",
       "    </tr>\n",
       "    <tr>\n",
       "      <th>3</th>\n",
       "      <td>01/01/2023</td>\n",
       "      <td>0:03:00</td>\n",
       "      <td>0.042500</td>\n",
       "      <td>0.0</td>\n",
       "      <td>0.0</td>\n",
       "      <td>0.0</td>\n",
       "      <td>2023-01-01 00:03:00</td>\n",
       "    </tr>\n",
       "  </tbody>\n",
       "</table>\n",
       "</div>"
      ],
      "text/plain": [
       "         date     time  household_usage  kitchen  other_appliances  heating  \\\n",
       "0  01/01/2023  0:00:00         0.043000      0.0               0.0      0.0   \n",
       "1  01/01/2023  0:01:00         0.042533      0.0               0.0      0.0   \n",
       "2  01/01/2023  0:02:00         0.042500      0.0               0.0      0.0   \n",
       "3  01/01/2023  0:03:00         0.042500      0.0               0.0      0.0   \n",
       "\n",
       "            timestamp  \n",
       "0 2023-01-01 00:00:00  \n",
       "1 2023-01-01 00:01:00  \n",
       "2 2023-01-01 00:02:00  \n",
       "3 2023-01-01 00:03:00  "
      ]
     },
     "execution_count": 143,
     "metadata": {},
     "output_type": "execute_result"
    }
   ],
   "source": [
    "df = pd.read_csv('household_power_consumption.csv')\n",
    "df = df[['Date', 'Time', 'Global_active_power', 'Sub_metering_1', \n",
    "       'Sub_metering_2','Sub_metering_3']]\n",
    "df.columns = ['date', 'time', 'household_usage', 'kitchen', 'other_appliances', 'heating']\n",
    "dats = []\n",
    "\n",
    "for i in range(len(df)):\n",
    "    output = ''\n",
    "    stamp = df.iloc[i, 0].split('/')\n",
    "    if len(stamp[0]) == 2:\n",
    "        output += stamp[0]\n",
    "    else:\n",
    "        output += '0' + stamp[0]\n",
    "    output += '/'\n",
    "    if len(stamp[1]) == 2:\n",
    "        output += stamp[1]\n",
    "    else:\n",
    "        output += '0' + stamp[1]\n",
    "    output += '/2023'\n",
    "    dats.append(output)\n",
    "df['date'] = dats\n",
    "df['timestamp'] = pd.to_datetime(df.date + ' ' + df.time, format = '%d/%m/%Y %H:%M:%S')\n",
    "df['household_usage'] = df.household_usage.replace('?', np.nan).ffill().astype('float')/60\n",
    "df['kitchen'] = df.kitchen.replace('?', np.nan).ffill().astype('float')/60\n",
    "df['other_appliances'] = df.other_appliances.replace('?', np.nan).ffill().astype('float')/60\n",
    "df['heating'] = df.heating.replace('?', np.nan).ffill().astype('float')/60\n",
    "df.head(4)"
   ]
  },
  {
   "cell_type": "code",
   "execution_count": 147,
   "id": "6f74d65a",
   "metadata": {},
   "outputs": [],
   "source": [
    "output = df[['timestamp', 'household_usage', 'kitchen', 'heating', 'other_appliances']]"
   ]
  },
  {
   "cell_type": "code",
   "execution_count": 148,
   "id": "8a10bd98",
   "metadata": {},
   "outputs": [],
   "source": [
    "output = output.set_index('timestamp').resample('H').sum().reset_index()"
   ]
  },
  {
   "cell_type": "code",
   "execution_count": 150,
   "id": "a92ee205",
   "metadata": {},
   "outputs": [],
   "source": [
    "output.to_csv('household_energy_usage.csv', index = False)"
   ]
  },
  {
   "cell_type": "code",
   "execution_count": 125,
   "id": "eb983a5d",
   "metadata": {},
   "outputs": [
    {
     "data": {
      "text/plain": [
       "2.5506333333333333"
      ]
     },
     "execution_count": 125,
     "metadata": {},
     "output_type": "execute_result"
    }
   ],
   "source": [
    "output.iloc[0, 1]/60"
   ]
  },
  {
   "cell_type": "code",
   "execution_count": 151,
   "id": "02156cc0",
   "metadata": {},
   "outputs": [],
   "source": [
    "df2 = pd.read_csv('be_day-ahead_prices.csv')"
   ]
  },
  {
   "cell_type": "code",
   "execution_count": 156,
   "id": "3bbb1650",
   "metadata": {},
   "outputs": [],
   "source": [
    "df2['MTU']=pd.to_datetime(df2.MTU)"
   ]
  },
  {
   "cell_type": "code",
   "execution_count": 157,
   "id": "887496e5",
   "metadata": {},
   "outputs": [
    {
     "data": {
      "text/html": [
       "<div>\n",
       "<style scoped>\n",
       "    .dataframe tbody tr th:only-of-type {\n",
       "        vertical-align: middle;\n",
       "    }\n",
       "\n",
       "    .dataframe tbody tr th {\n",
       "        vertical-align: top;\n",
       "    }\n",
       "\n",
       "    .dataframe thead th {\n",
       "        text-align: right;\n",
       "    }\n",
       "</style>\n",
       "<table border=\"1\" class=\"dataframe\">\n",
       "  <thead>\n",
       "    <tr style=\"text-align: right;\">\n",
       "      <th></th>\n",
       "      <th>MTU</th>\n",
       "      <th>[EUR / MWh]</th>\n",
       "    </tr>\n",
       "  </thead>\n",
       "  <tbody>\n",
       "    <tr>\n",
       "      <th>1080</th>\n",
       "      <td>2023-12-31 00:00:00</td>\n",
       "      <td>25.62</td>\n",
       "    </tr>\n",
       "    <tr>\n",
       "      <th>1081</th>\n",
       "      <td>2023-12-31 01:00:00</td>\n",
       "      <td>8.33</td>\n",
       "    </tr>\n",
       "    <tr>\n",
       "      <th>1082</th>\n",
       "      <td>2023-12-31 02:00:00</td>\n",
       "      <td>4.00</td>\n",
       "    </tr>\n",
       "    <tr>\n",
       "      <th>1083</th>\n",
       "      <td>2023-12-31 03:00:00</td>\n",
       "      <td>0.31</td>\n",
       "    </tr>\n",
       "    <tr>\n",
       "      <th>1084</th>\n",
       "      <td>2023-12-31 04:00:00</td>\n",
       "      <td>-0.06</td>\n",
       "    </tr>\n",
       "    <tr>\n",
       "      <th>...</th>\n",
       "      <td>...</td>\n",
       "      <td>...</td>\n",
       "    </tr>\n",
       "    <tr>\n",
       "      <th>9812</th>\n",
       "      <td>2023-01-01 19:00:00</td>\n",
       "      <td>54.95</td>\n",
       "    </tr>\n",
       "    <tr>\n",
       "      <th>9813</th>\n",
       "      <td>2023-01-01 20:00:00</td>\n",
       "      <td>45.83</td>\n",
       "    </tr>\n",
       "    <tr>\n",
       "      <th>9814</th>\n",
       "      <td>2023-01-01 21:00:00</td>\n",
       "      <td>36.57</td>\n",
       "    </tr>\n",
       "    <tr>\n",
       "      <th>9815</th>\n",
       "      <td>2023-01-01 22:00:00</td>\n",
       "      <td>45.96</td>\n",
       "    </tr>\n",
       "    <tr>\n",
       "      <th>9816</th>\n",
       "      <td>2023-01-01 23:00:00</td>\n",
       "      <td>35.00</td>\n",
       "    </tr>\n",
       "  </tbody>\n",
       "</table>\n",
       "<p>8737 rows × 2 columns</p>\n",
       "</div>"
      ],
      "text/plain": [
       "                     MTU  [EUR / MWh]\n",
       "1080 2023-12-31 00:00:00        25.62\n",
       "1081 2023-12-31 01:00:00         8.33\n",
       "1082 2023-12-31 02:00:00         4.00\n",
       "1083 2023-12-31 03:00:00         0.31\n",
       "1084 2023-12-31 04:00:00        -0.06\n",
       "...                  ...          ...\n",
       "9812 2023-01-01 19:00:00        54.95\n",
       "9813 2023-01-01 20:00:00        45.83\n",
       "9814 2023-01-01 21:00:00        36.57\n",
       "9815 2023-01-01 22:00:00        45.96\n",
       "9816 2023-01-01 23:00:00        35.00\n",
       "\n",
       "[8737 rows x 2 columns]"
      ]
     },
     "execution_count": 157,
     "metadata": {},
     "output_type": "execute_result"
    }
   ],
   "source": [
    "df2 df2[df2.MTU.dt.year == 2023]"
   ]
  },
  {
   "cell_type": "code",
   "execution_count": null,
   "id": "6353b1dd",
   "metadata": {},
   "outputs": [],
   "source": []
  }
 ],
 "metadata": {
  "kernelspec": {
   "display_name": "Python 3 (ipykernel)",
   "language": "python",
   "name": "python3"
  },
  "language_info": {
   "codemirror_mode": {
    "name": "ipython",
    "version": 3
   },
   "file_extension": ".py",
   "mimetype": "text/x-python",
   "name": "python",
   "nbconvert_exporter": "python",
   "pygments_lexer": "ipython3",
   "version": "3.11.4"
  }
 },
 "nbformat": 4,
 "nbformat_minor": 5
}
