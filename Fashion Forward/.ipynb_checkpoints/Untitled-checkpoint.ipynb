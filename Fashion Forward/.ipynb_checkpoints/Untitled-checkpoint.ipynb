{
 "cells": [
  {
   "cell_type": "code",
   "execution_count": 1,
   "id": "6f6c02be",
   "metadata": {},
   "outputs": [],
   "source": [
    "import pandas as pd\n",
    "from faker import Faker"
   ]
  },
  {
   "cell_type": "code",
   "execution_count": 2,
   "id": "5d6f78c6",
   "metadata": {},
   "outputs": [],
   "source": [
    "fake = Faker()"
   ]
  },
  {
   "cell_type": "code",
   "execution_count": 4,
   "id": "b877b834",
   "metadata": {},
   "outputs": [
    {
     "data": {
      "text/plain": [
       "'Snow'"
      ]
     },
     "execution_count": 4,
     "metadata": {},
     "output_type": "execute_result"
    }
   ],
   "source": [
    "fake.color_name()"
   ]
  },
  {
   "cell_type": "code",
   "execution_count": 5,
   "id": "3b19c1b9",
   "metadata": {},
   "outputs": [],
   "source": [
    "import random"
   ]
  },
  {
   "cell_type": "code",
   "execution_count": 6,
   "id": "b026ddb7",
   "metadata": {},
   "outputs": [],
   "source": [
    "start_id = random.randint(1000, 10000)"
   ]
  },
  {
   "cell_type": "code",
   "execution_count": 11,
   "id": "ead3652d",
   "metadata": {},
   "outputs": [],
   "source": [
    "product_codes = []\n",
    "\n",
    "\n",
    "for i in range(20):\n",
    "    \n",
    "    code = fake.color_name()[0] + fake.color_name()[0] + str(random.randint(100,999))\n",
    "    product_codes.append(code)"
   ]
  },
  {
   "cell_type": "code",
   "execution_count": 24,
   "id": "c8f00d0b",
   "metadata": {},
   "outputs": [],
   "source": [
    "deal_codes = []\n",
    "\n",
    "\n",
    "for i in range(5):\n",
    "    \n",
    "    code = fake.color_name()[0] + fake.color_name()[0] + str(random.randint(100,999))\n",
    "    product_codes.append(code)"
   ]
  },
  {
   "cell_type": "code",
   "execution_count": 13,
   "id": "23ce6caa",
   "metadata": {},
   "outputs": [],
   "source": [
    "from random import randrange\n",
    "from datetime import timedelta\n",
    "\n",
    "def random_date(start, end):\n",
    "    \"\"\"\n",
    "    This function will return a random datetime between two datetime \n",
    "    objects.\n",
    "    \"\"\"\n",
    "    delta = end - start\n",
    "    int_delta = (delta.days * 24 * 60 * 60) \n",
    "    random_second = randrange(int_delta)\n",
    "    return start + timedelta(seconds=random_second)"
   ]
  },
  {
   "cell_type": "code",
   "execution_count": 16,
   "id": "2ea2c312",
   "metadata": {},
   "outputs": [],
   "source": [
    "start = pd.to_datetime('01/01/2021', format = '%d/%m/%Y')\n",
    "end = pd.to_datetime('31/08/2023', format = '%d/%m/%Y')"
   ]
  },
  {
   "cell_type": "code",
   "execution_count": 26,
   "id": "033afa06",
   "metadata": {},
   "outputs": [],
   "source": [
    "def cus_code():\n",
    "    cus_fore = fake.first_name()\n",
    "    cus_las = fake.last_name()\n",
    "    \n",
    "    return cus_fore[0] + cus_las[0] + str(random.randint(100,999))"
   ]
  },
  {
   "cell_type": "code",
   "execution_count": 30,
   "id": "7d409f0b",
   "metadata": {},
   "outputs": [],
   "source": [
    "ids = []\n",
    "dates = []\n",
    "pcs = []\n",
    "sp = []\n",
    "deals = []\n",
    "deal_codies = []\n",
    "cc = []\n",
    "online = []\n",
    "\n",
    "for i in range(150, 400):\n",
    "    ids.append(start_id)\n",
    "    start_id += 1\n",
    "    pcs.append(random.choice(product_codes))\n",
    "    cc.append(cus_code())\n",
    "    on = random.choices(population = [True, False], weights = [0.8, 0.2])\n",
    "    online.append(on)\n",
    "    deal = random.choices(population = [True, False], weights = [0.33, 0.67])\n",
    "    if deal == True:\n",
    "        deal_codies.append(random.choice(deal_codes))\n",
    "    else:\n",
    "        deal_codies.append('NA')\n",
    "    deals.append(deal)\n",
    "    sale = random.choices(population = [True, False], weights = [0.3, 0.7])\n",
    "    sp.append(sale)\n",
    "    \n",
    "    if sale == True:\n",
    "        r = random.randint(1,6)\n",
    "        if r == 1:\n",
    "            start = pd.to_datetime('01/01/2021', format = '%d/%m/%Y')\n",
    "            end = pd.to_datetime('31/01/2021', format = '%d/%m/%Y')\n",
    "        elif r == 2:\n",
    "            start = pd.to_datetime('01/06/2021', format = '%d/%m/%Y')\n",
    "            end = pd.to_datetime('31/07/2021', format = '%d/%m/%Y')\n",
    "        elif r == 3:\n",
    "            start = pd.to_datetime('01/01/2022', format = '%d/%m/%Y')\n",
    "            end = pd.to_datetime('31/01/2022', format = '%d/%m/%Y')\n",
    "        elif r == 4:\n",
    "            start = pd.to_datetime('01/08/2022', format = '%d/%m/%Y')\n",
    "            end = pd.to_datetime('31/08/2022', format = '%d/%m/%Y')\n",
    "        elif r == 5:\n",
    "            start = pd.to_datetime('01/01/2023', format = '%d/%m/%Y')\n",
    "            end = pd.to_datetime('31/01/2023', format = '%d/%m/%Y')\n",
    "        elif r == 6:\n",
    "            start = pd.to_datetime('01/06/2023', format = '%d/%m/%Y')\n",
    "            end = pd.to_datetime('01/07/2023', format = '%d/%m/%Y')\n",
    "    else:\n",
    "\n",
    "        start = pd.to_datetime('01/01/2021', format = '%d/%m/%Y')\n",
    "        end = pd.to_datetime('31/08/2023', format = '%d/%m/%Y')\n",
    "    dates.append(random_date(start,end))\n"
   ]
  },
  {
   "cell_type": "code",
   "execution_count": null,
   "id": "56957ab3",
   "metadata": {},
   "outputs": [],
   "source": []
  },
  {
   "cell_type": "code",
   "execution_count": 33,
   "id": "a1a97387",
   "metadata": {},
   "outputs": [
    {
     "ename": "ValueError",
     "evalue": "All arrays must be of the same length",
     "output_type": "error",
     "traceback": [
      "\u001b[1;31m---------------------------------------------------------------------------\u001b[0m",
      "\u001b[1;31mValueError\u001b[0m                                Traceback (most recent call last)",
      "Cell \u001b[1;32mIn[33], line 1\u001b[0m\n\u001b[1;32m----> 1\u001b[0m df \u001b[38;5;241m=\u001b[39m pd\u001b[38;5;241m.\u001b[39mDataFrame({\u001b[38;5;124m'\u001b[39m\u001b[38;5;124mID\u001b[39m\u001b[38;5;124m'\u001b[39m : ids, \u001b[38;5;124m'\u001b[39m\u001b[38;5;124mDate\u001b[39m\u001b[38;5;124m'\u001b[39m : date, \u001b[38;5;124m'\u001b[39m\u001b[38;5;124mProduct code\u001b[39m\u001b[38;5;124m'\u001b[39m : pcs, \u001b[38;5;124m'\u001b[39m\u001b[38;5;124mSales period\u001b[39m\u001b[38;5;124m'\u001b[39m : sale,\n\u001b[0;32m      2\u001b[0m                   \u001b[38;5;124m'\u001b[39m\u001b[38;5;124mDeal\u001b[39m\u001b[38;5;124m'\u001b[39m : deals, \u001b[38;5;124m'\u001b[39m\u001b[38;5;124mDeal code\u001b[39m\u001b[38;5;124m'\u001b[39m : deal_codies, \u001b[38;5;124m'\u001b[39m\u001b[38;5;124mCustomer code\u001b[39m\u001b[38;5;124m'\u001b[39m : cc, \u001b[38;5;124m'\u001b[39m\u001b[38;5;124mOnline\u001b[39m\u001b[38;5;124m'\u001b[39m : online})\n",
      "File \u001b[1;32m~\\anaconda3_v2\\Lib\\site-packages\\pandas\\core\\frame.py:664\u001b[0m, in \u001b[0;36mDataFrame.__init__\u001b[1;34m(self, data, index, columns, dtype, copy)\u001b[0m\n\u001b[0;32m    658\u001b[0m     mgr \u001b[38;5;241m=\u001b[39m \u001b[38;5;28mself\u001b[39m\u001b[38;5;241m.\u001b[39m_init_mgr(\n\u001b[0;32m    659\u001b[0m         data, axes\u001b[38;5;241m=\u001b[39m{\u001b[38;5;124m\"\u001b[39m\u001b[38;5;124mindex\u001b[39m\u001b[38;5;124m\"\u001b[39m: index, \u001b[38;5;124m\"\u001b[39m\u001b[38;5;124mcolumns\u001b[39m\u001b[38;5;124m\"\u001b[39m: columns}, dtype\u001b[38;5;241m=\u001b[39mdtype, copy\u001b[38;5;241m=\u001b[39mcopy\n\u001b[0;32m    660\u001b[0m     )\n\u001b[0;32m    662\u001b[0m \u001b[38;5;28;01melif\u001b[39;00m \u001b[38;5;28misinstance\u001b[39m(data, \u001b[38;5;28mdict\u001b[39m):\n\u001b[0;32m    663\u001b[0m     \u001b[38;5;66;03m# GH#38939 de facto copy defaults to False only in non-dict cases\u001b[39;00m\n\u001b[1;32m--> 664\u001b[0m     mgr \u001b[38;5;241m=\u001b[39m dict_to_mgr(data, index, columns, dtype\u001b[38;5;241m=\u001b[39mdtype, copy\u001b[38;5;241m=\u001b[39mcopy, typ\u001b[38;5;241m=\u001b[39mmanager)\n\u001b[0;32m    665\u001b[0m \u001b[38;5;28;01melif\u001b[39;00m \u001b[38;5;28misinstance\u001b[39m(data, ma\u001b[38;5;241m.\u001b[39mMaskedArray):\n\u001b[0;32m    666\u001b[0m     \u001b[38;5;28;01mimport\u001b[39;00m \u001b[38;5;21;01mnumpy\u001b[39;00m\u001b[38;5;21;01m.\u001b[39;00m\u001b[38;5;21;01mma\u001b[39;00m\u001b[38;5;21;01m.\u001b[39;00m\u001b[38;5;21;01mmrecords\u001b[39;00m \u001b[38;5;28;01mas\u001b[39;00m \u001b[38;5;21;01mmrecords\u001b[39;00m\n",
      "File \u001b[1;32m~\\anaconda3_v2\\Lib\\site-packages\\pandas\\core\\internals\\construction.py:493\u001b[0m, in \u001b[0;36mdict_to_mgr\u001b[1;34m(data, index, columns, dtype, typ, copy)\u001b[0m\n\u001b[0;32m    489\u001b[0m     \u001b[38;5;28;01melse\u001b[39;00m:\n\u001b[0;32m    490\u001b[0m         \u001b[38;5;66;03m# dtype check to exclude e.g. range objects, scalars\u001b[39;00m\n\u001b[0;32m    491\u001b[0m         arrays \u001b[38;5;241m=\u001b[39m [x\u001b[38;5;241m.\u001b[39mcopy() \u001b[38;5;28;01mif\u001b[39;00m \u001b[38;5;28mhasattr\u001b[39m(x, \u001b[38;5;124m\"\u001b[39m\u001b[38;5;124mdtype\u001b[39m\u001b[38;5;124m\"\u001b[39m) \u001b[38;5;28;01melse\u001b[39;00m x \u001b[38;5;28;01mfor\u001b[39;00m x \u001b[38;5;129;01min\u001b[39;00m arrays]\n\u001b[1;32m--> 493\u001b[0m \u001b[38;5;28;01mreturn\u001b[39;00m arrays_to_mgr(arrays, columns, index, dtype\u001b[38;5;241m=\u001b[39mdtype, typ\u001b[38;5;241m=\u001b[39mtyp, consolidate\u001b[38;5;241m=\u001b[39mcopy)\n",
      "File \u001b[1;32m~\\anaconda3_v2\\Lib\\site-packages\\pandas\\core\\internals\\construction.py:118\u001b[0m, in \u001b[0;36marrays_to_mgr\u001b[1;34m(arrays, columns, index, dtype, verify_integrity, typ, consolidate)\u001b[0m\n\u001b[0;32m    115\u001b[0m \u001b[38;5;28;01mif\u001b[39;00m verify_integrity:\n\u001b[0;32m    116\u001b[0m     \u001b[38;5;66;03m# figure out the index, if necessary\u001b[39;00m\n\u001b[0;32m    117\u001b[0m     \u001b[38;5;28;01mif\u001b[39;00m index \u001b[38;5;129;01mis\u001b[39;00m \u001b[38;5;28;01mNone\u001b[39;00m:\n\u001b[1;32m--> 118\u001b[0m         index \u001b[38;5;241m=\u001b[39m _extract_index(arrays)\n\u001b[0;32m    119\u001b[0m     \u001b[38;5;28;01melse\u001b[39;00m:\n\u001b[0;32m    120\u001b[0m         index \u001b[38;5;241m=\u001b[39m ensure_index(index)\n",
      "File \u001b[1;32m~\\anaconda3_v2\\Lib\\site-packages\\pandas\\core\\internals\\construction.py:666\u001b[0m, in \u001b[0;36m_extract_index\u001b[1;34m(data)\u001b[0m\n\u001b[0;32m    664\u001b[0m lengths \u001b[38;5;241m=\u001b[39m \u001b[38;5;28mlist\u001b[39m(\u001b[38;5;28mset\u001b[39m(raw_lengths))\n\u001b[0;32m    665\u001b[0m \u001b[38;5;28;01mif\u001b[39;00m \u001b[38;5;28mlen\u001b[39m(lengths) \u001b[38;5;241m>\u001b[39m \u001b[38;5;241m1\u001b[39m:\n\u001b[1;32m--> 666\u001b[0m     \u001b[38;5;28;01mraise\u001b[39;00m \u001b[38;5;167;01mValueError\u001b[39;00m(\u001b[38;5;124m\"\u001b[39m\u001b[38;5;124mAll arrays must be of the same length\u001b[39m\u001b[38;5;124m\"\u001b[39m)\n\u001b[0;32m    668\u001b[0m \u001b[38;5;28;01mif\u001b[39;00m have_dicts:\n\u001b[0;32m    669\u001b[0m     \u001b[38;5;28;01mraise\u001b[39;00m \u001b[38;5;167;01mValueError\u001b[39;00m(\n\u001b[0;32m    670\u001b[0m         \u001b[38;5;124m\"\u001b[39m\u001b[38;5;124mMixing dicts with non-Series may lead to ambiguous ordering.\u001b[39m\u001b[38;5;124m\"\u001b[39m\n\u001b[0;32m    671\u001b[0m     )\n",
      "\u001b[1;31mValueError\u001b[0m: All arrays must be of the same length"
     ]
    }
   ],
   "source": [
    "df = pd.DataFrame({'ID' : ids, 'Date' : date, 'Product code' : pcs, 'Sales period' : sale,\n",
    "                  'Deal' : deals, 'Deal code' : deal_codies, 'Customer code' : cc, 'Online' : online})"
   ]
  },
  {
   "cell_type": "code",
   "execution_count": null,
   "id": "a1830260",
   "metadata": {},
   "outputs": [],
   "source": []
  }
 ],
 "metadata": {
  "kernelspec": {
   "display_name": "Python 3 (ipykernel)",
   "language": "python",
   "name": "python3"
  },
  "language_info": {
   "codemirror_mode": {
    "name": "ipython",
    "version": 3
   },
   "file_extension": ".py",
   "mimetype": "text/x-python",
   "name": "python",
   "nbconvert_exporter": "python",
   "pygments_lexer": "ipython3",
   "version": "3.11.3"
  }
 },
 "nbformat": 4,
 "nbformat_minor": 5
}
