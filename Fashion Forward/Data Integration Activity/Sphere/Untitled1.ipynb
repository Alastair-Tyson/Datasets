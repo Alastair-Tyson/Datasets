{
 "cells": [
  {
   "cell_type": "code",
   "execution_count": 1,
   "id": "e6b5ce7b",
   "metadata": {},
   "outputs": [],
   "source": [
    "import pandas as pd"
   ]
  },
  {
   "cell_type": "code",
   "execution_count": 3,
   "id": "581965e0",
   "metadata": {},
   "outputs": [],
   "source": [
    "q3 = pd.read_csv('Q3 Sales.csv')\n",
    "d = pd.read_csv('Delivery.csv')\n",
    "p = pd.read_csv('Products.csv')"
   ]
  },
  {
   "cell_type": "code",
   "execution_count": 10,
   "id": "6225cedd",
   "metadata": {},
   "outputs": [],
   "source": [
    "m = pd.merge(left = pd.merge(left = q3, right = d), right = p, left_on = 'product_id', right_on = 'product_code')"
   ]
  },
  {
   "cell_type": "code",
   "execution_count": 16,
   "id": "152164e7",
   "metadata": {},
   "outputs": [],
   "source": [
    "out = m.groupby(['state', 'line', 'product_id']).count()['sale_id'].reset_index()"
   ]
  },
  {
   "cell_type": "code",
   "execution_count": 17,
   "id": "301a7fdd",
   "metadata": {},
   "outputs": [],
   "source": [
    "out.columns = ['state', 'line', 'product_id', 'total_units_sold']"
   ]
  },
  {
   "cell_type": "code",
   "execution_count": 19,
   "id": "6a731b12",
   "metadata": {},
   "outputs": [],
   "source": [
    "out.to_csv('SQL_output.csv', index = False)"
   ]
  }
 ],
 "metadata": {
  "kernelspec": {
   "display_name": "Python 3 (ipykernel)",
   "language": "python",
   "name": "python3"
  },
  "language_info": {
   "codemirror_mode": {
    "name": "ipython",
    "version": 3
   },
   "file_extension": ".py",
   "mimetype": "text/x-python",
   "name": "python",
   "nbconvert_exporter": "python",
   "pygments_lexer": "ipython3",
   "version": "3.11.4"
  }
 },
 "nbformat": 4,
 "nbformat_minor": 5
}
