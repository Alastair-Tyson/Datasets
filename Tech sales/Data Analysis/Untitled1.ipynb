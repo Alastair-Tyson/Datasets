{
 "cells": [
  {
   "cell_type": "code",
   "execution_count": 25,
   "id": "0543f2ae",
   "metadata": {},
   "outputs": [],
   "source": [
    "import pandas as pd\n",
    "import random\n",
    "import numpy as np"
   ]
  },
  {
   "cell_type": "code",
   "execution_count": 45,
   "id": "fdb4771f",
   "metadata": {},
   "outputs": [],
   "source": [
    "car_models = {'Pontoon Cars' : ['Tether', 'Dash', 'Lisk'],\n",
    "              'Ridge Motors' : ['Snowdon', 'Pike'],\n",
    "              'Phoenix Wheels' : ['Razor', 'Falcon']}\n",
    "\n"
   ]
  },
  {
   "cell_type": "code",
   "execution_count": 70,
   "id": "3f9d0b9f",
   "metadata": {},
   "outputs": [],
   "source": [
    "def calculate_brake_pad_wear(mileage, wear_rate = 0.05):\n",
    "    # Assuming brake pad wears out approximately every 50,000 miles\n",
    "    # A wear rate of 0.05 means 5% wear per 50,000 miles\n",
    "    \n",
    "\n",
    "    # Calculate the brake pad wear\n",
    "    brake_pad_wear = mileage / np.random.normal(5000, 500) * np.random.normal(wear_rate, 0.005)\n",
    "\n",
    "    return round(brake_pad_wear * 100,2)\n",
    "    "
   ]
  },
  {
   "cell_type": "code",
   "execution_count": 71,
   "id": "93d9a495",
   "metadata": {},
   "outputs": [],
   "source": [
    "wear_rates = {}\n",
    "\n",
    "\n",
    "for c in car_models.keys():\n",
    "    rate = 0.05\n",
    "    for m in car_models[c]:\n",
    "        if c == 'Pontoon Cars':\n",
    "            rate += np.random.normal(0.002, 0.005)\n",
    "        elif c == 'Ridge Motors':\n",
    "            rate += np.random.normal(0.001, 0.005)\n",
    "        else:\n",
    "            rate += np.random.normal(0.004, 0.005)\n",
    "        wear_rates[m] = rate"
   ]
  },
  {
   "cell_type": "code",
   "execution_count": 72,
   "id": "5d452c6c",
   "metadata": {},
   "outputs": [],
   "source": [
    "ids = []\n",
    "model = []\n",
    "comp = []\n",
    "mile = []\n",
    "wear = []\n",
    "\n",
    "for i in range(random.randint(150,250)):\n",
    "    company = random.choices(list(car_models.keys()), weights = [0.5, 0.25, 0.25], k = 1)[0]\n",
    "    mod = random.choice(car_models[company])\n",
    "    model.append(mod)\n",
    "    comp.append(company)\n",
    "    mileage = random.randint(5000, 60000)\n",
    "    mile.append(mileage)\n",
    "    wear.append(calculate_brake_pad_wear(mileage, wear_rates[mod]))"
   ]
  },
  {
   "cell_type": "code",
   "execution_count": 74,
   "id": "19a04af3",
   "metadata": {},
   "outputs": [],
   "source": [
    "df = pd.DataFrame({'Model' : model, 'Company': comp, ' Mileage' : mile, 'Brake Wear' : wear})"
   ]
  },
  {
   "cell_type": "code",
   "execution_count": 75,
   "id": "790e2b9d",
   "metadata": {},
   "outputs": [],
   "source": [
    "df.to_csv('car_brake_wear.csv', index = False)"
   ]
  },
  {
   "cell_type": "code",
   "execution_count": null,
   "id": "d1d3f48c",
   "metadata": {},
   "outputs": [],
   "source": []
  }
 ],
 "metadata": {
  "kernelspec": {
   "display_name": "Python 3 (ipykernel)",
   "language": "python",
   "name": "python3"
  },
  "language_info": {
   "codemirror_mode": {
    "name": "ipython",
    "version": 3
   },
   "file_extension": ".py",
   "mimetype": "text/x-python",
   "name": "python",
   "nbconvert_exporter": "python",
   "pygments_lexer": "ipython3",
   "version": "3.11.4"
  }
 },
 "nbformat": 4,
 "nbformat_minor": 5
}
