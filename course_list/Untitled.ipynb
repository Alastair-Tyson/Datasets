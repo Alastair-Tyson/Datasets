{
 "cells": [
  {
   "cell_type": "code",
   "execution_count": 1,
   "id": "08f058e6",
   "metadata": {},
   "outputs": [],
   "source": [
    "import pandas as pd\n",
    "from faker import Faker\n",
    "import random"
   ]
  },
  {
   "cell_type": "code",
   "execution_count": 4,
   "id": "6626c50b",
   "metadata": {},
   "outputs": [],
   "source": [
    "course_list = { \"STAT101\": [\"Introduction to Statistics\", \"First Year\", \"Prof. Johnson\"],\n",
    "               \"STAT102\": [\"Data Analysis and Visualization\", \"First Year\", \"Prof. Smith\"],\n",
    "               \"STAT201\": [\"Probability Theory\", \"Second Year\", \"Prof. Thompson\"],\n",
    "               \"STAT202\": [\"Statistical Methods in Research\", \"Second Year\", \"Prof. Davis\"],\n",
    "               \"STAT301\": [\"Statistical Inference\",\"Third Year\", \"Prof. Wilson\"],\n",
    "               \"STAT302\": [\"Applied Regression Analysis\", \"Third Year\", \"Prof. Martinez\"],\n",
    "               \"STAT401\": [\"Design and Analysis of Experiments\", \"Third Year\", \"Prof. Brown\"],\n",
    "               \"STAT402\": [\"Time Series Analysis\", \"Third Year\", \"Prof. Garcia\"],\n",
    "               \"STAT403\": [\"Statistical Modeling\", \"Fourth Year\", \"Prof. Lee\"],\n",
    "               \"STAT501\": [\"Bayesian Data Analysis\", \"Graduate Level\", \"Prof. Patel\"],\n",
    "               \"STAT502\": [\"Multivariate Analysis\", \"Graduate Level\", \"Prof. Anderson\"],\n",
    "               \"STAT503\": [\"Survival Analysis\", \"Graduate Level\", \"Prof. Carter\"]\n",
    "              }"
   ]
  },
  {
   "cell_type": "code",
   "execution_count": 5,
   "id": "0c35297f",
   "metadata": {},
   "outputs": [],
   "source": [
    "fake = Faker()"
   ]
  },
  {
   "cell_type": "code",
   "execution_count": 12,
   "id": "d82ebb7b",
   "metadata": {},
   "outputs": [],
   "source": [
    "student_id = []\n",
    "student_name = []\n",
    "year = []\n",
    "degree = []\n",
    "\n",
    "for i in range(124):\n",
    "    fname = fake.first_name() \n",
    "    sname = fake.last_name()\n",
    "    student_id.append(fname[0]+sname[0]+str(random.randint(1000,9999)))\n",
    "    student_name.append(fname + ' ' + sname)\n",
    "    year.append(random.choices(population = ['First Year', 'Second Year', 'Third Year', 'Graduate Level'], \n",
    "                             weights = [0.4, 0.3, 0.2, 0.1])[0])\n",
    "    degree.append('Statistics')"
   ]
  },
  {
   "cell_type": "code",
   "execution_count": 17,
   "id": "d56b5a4c",
   "metadata": {},
   "outputs": [],
   "source": [
    "course_df = pd.DataFrame(course_list, index =['Title', 'Year', 'Teacher']).T"
   ]
  },
  {
   "cell_type": "code",
   "execution_count": 19,
   "id": "cf727611",
   "metadata": {},
   "outputs": [],
   "source": [
    "student_df = pd.DataFrame({'Student ID' : student_id, 'Name' : student_name, 'Year' : year, 'Degree' : degree})"
   ]
  },
  {
   "cell_type": "code",
   "execution_count": null,
   "id": "fc2cb3db",
   "metadata": {},
   "outputs": [],
   "source": []
  }
 ],
 "metadata": {
  "kernelspec": {
   "display_name": "Python 3 (ipykernel)",
   "language": "python",
   "name": "python3"
  },
  "language_info": {
   "codemirror_mode": {
    "name": "ipython",
    "version": 3
   },
   "file_extension": ".py",
   "mimetype": "text/x-python",
   "name": "python",
   "nbconvert_exporter": "python",
   "pygments_lexer": "ipython3",
   "version": "3.11.4"
  }
 },
 "nbformat": 4,
 "nbformat_minor": 5
}
